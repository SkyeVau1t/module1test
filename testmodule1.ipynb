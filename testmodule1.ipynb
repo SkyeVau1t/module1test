{
 "cells": [
  {
   "cell_type": "code",
   "execution_count": 3,
   "id": "0421d87c",
   "metadata": {},
   "outputs": [
    {
     "name": "stdout",
     "output_type": "stream",
     "text": [
      "Hello Professor Steve\n"
     ]
    }
   ],
   "source": [
    "print(\"Hello Professor Steve\")"
   ]
  },
  {
   "cell_type": "code",
   "execution_count": 4,
   "id": "8c8a8da3",
   "metadata": {},
   "outputs": [
    {
     "name": "stdout",
     "output_type": "stream",
     "text": [
      "2\n"
     ]
    }
   ],
   "source": [
    "one = 1\n",
    "print(one+one)"
   ]
  }
 ],
 "metadata": {
  "kernelspec": {
   "display_name": "ATMS517",
   "language": "python",
   "name": "python3"
  },
  "language_info": {
   "codemirror_mode": {
    "name": "ipython",
    "version": 3
   },
   "file_extension": ".py",
   "mimetype": "text/x-python",
   "name": "python",
   "nbconvert_exporter": "python",
   "pygments_lexer": "ipython3",
   "version": "3.11.11"
  }
 },
 "nbformat": 4,
 "nbformat_minor": 5
}
