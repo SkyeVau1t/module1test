{
 "cells": [
  {
   "cell_type": "code",
   "execution_count": 2,
   "id": "0421d87c",
   "metadata": {},
   "outputs": [
    {
     "name": "stdout",
     "output_type": "stream",
     "text": [
      "Hello Professor Steve\n"
     ]
    }
   ],
   "source": [
    "print(\"Hello Professor Steve\")"
   ]
  },
  {
   "cell_type": "code",
   "execution_count": 3,
   "id": "8c8a8da3",
   "metadata": {},
   "outputs": [
    {
     "name": "stdout",
     "output_type": "stream",
     "text": [
      "2\n"
     ]
    }
   ],
   "source": [
    "one = 1\n",
    "print(one+one)"
   ]
  },
  {
   "cell_type": "code",
   "execution_count": 1,
   "id": "abf4de3a",
   "metadata": {},
   "outputs": [
    {
     "name": "stdout",
     "output_type": "stream",
     "text": [
      "10\n"
     ]
    }
   ],
   "source": [
    "import math\n",
    "\n",
    "numbers = [1, 2, 3, 4]\n",
    "\n",
    "\n",
    "def add_all_numbers_from_collection(number_one, number_two, number_three,\n",
    "                                    number_four):\n",
    "    return number_one + number_two + number_three + number_four\n",
    "\n",
    "\n",
    "print(add_all_numbers_from_collection(*numbers))"
   ]
  }
 ],
 "metadata": {
  "kernelspec": {
   "display_name": "ATMS517",
   "language": "python",
   "name": "python3"
  },
  "language_info": {
   "codemirror_mode": {
    "name": "ipython",
    "version": 3
   },
   "file_extension": ".py",
   "mimetype": "text/x-python",
   "name": "python",
   "nbconvert_exporter": "python",
   "pygments_lexer": "ipython3",
   "version": "3.11.11"
  }
 },
 "nbformat": 4,
 "nbformat_minor": 5
}
